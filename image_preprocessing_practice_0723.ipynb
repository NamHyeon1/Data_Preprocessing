{
 "cells": [
  {
   "cell_type": "code",
   "execution_count": 1,
   "id": "f3c93853-30d3-452b-ae92-4197dfb3788a",
   "metadata": {},
   "outputs": [],
   "source": [
    "import cv2\n",
    "import matplotlib.pyplot as plt"
   ]
  },
  {
   "cell_type": "code",
   "execution_count": 2,
   "id": "bf7ad50c-3006-43ea-85c4-0411bcc7a7e6",
   "metadata": {},
   "outputs": [],
   "source": [
    "import numpy as np\n",
    "import os"
   ]
  },
  {
   "cell_type": "code",
   "execution_count": null,
   "id": "39811ec5-283b-4e31-b49b-fac8a1b4e87a",
   "metadata": {},
   "outputs": [],
   "source": []
  },
  {
   "cell_type": "code",
   "execution_count": 3,
   "id": "45e3ed5b-9e92-47b1-a989-7975ce5bcc31",
   "metadata": {},
   "outputs": [],
   "source": [
    "img_path = \"ink.jpg\""
   ]
  },
  {
   "cell_type": "markdown",
   "id": "bdd723a3-d201-41b9-b6ff-49843edfaaf1",
   "execution_count": 35,
   "metadata": {
    "scrolled": true
   },
   "outputs": [
    {
     "data": {
      "text/plain": [
       "['ink_01.jpg',\n",
       " 'ink_02.jpg',\n",
       " 'ink_03.jpg',\n",
       " 'ink_04.jpg',\n",
       " 'ink_05.jpg',\n",
       " 'ink_06.jpg']"
      ]
     },
     "execution_count": 35,
     "metadata": {},
     "output_type": "execute_result"
    }
   ],
   "source": [
    "# 이미지 피라미드",
    "# 샘플 사진 폴더\n",
    "sample_dir = './sample/' \n",
    "os.listdir(sample_dir)"
   ]
  },
  {
   "cell_type": "code",
   "execution_count": 36,
   "id": "a8d0c086-0b9d-4f7a-a3cb-235b6b1edeef",
   "metadata": {},
   "outputs": [],
   "source": [
    "# save 폴더 (샘플 사진과 구분해야함)\n",
    "save_dir = './preprocessed'"
   ]
  },
  {
   "cell_type": "code",
   "execution_count": 17,
   "id": "2b050db8-c113-45b5-8ede-061c94f69d70",
   "metadata": {},
   "outputs": [
    {
     "data": {
      "text/plain": [
       "'./sample/ink_01'"
      ]
     },
     "execution_count": 17,
     "metadata": {},
     "output_type": "execute_result"
    }
   ],
   "source": [
    "os.path.join(sample_dir,os.listdir(sample_dir)[0])"
   ]
  },
  {
   "cell_type": "markdown",
   "id": "b622c02e-9cf7-41b6-902a-d3f0fbda3b19",
   "metadata": {},
   "source": [
    "# 컬러 스페이스 변환 (Color Space Conversion)"
   ]
  },
  {
   "cell_type": "code",
   "execution_count": 48,
   "id": "abad5a89-1710-4a11-857b-b55d2bf76453",
   "metadata": {},
   "outputs": [
    {
     "data": {
      "text/plain": [
       "True"
      ]
     },
     "execution_count": 48,
     "metadata": {},
     "output_type": "execute_result"
    }
   ],
   "source": [
    "hsv_image = cv2.cvtColor(image, cv2.COLOR_BGR2HSV)\n",
    "cv2.imwrite(f'hsv_image_{img_path}', hsv_image)"
   ]
  },
  {
   "cell_type": "markdown",
   "id": "2acbc1bf-f7b3-4129-aa40-0a032c2fc507",
   "metadata": {},
   "source": [
    "# 콘트라스트 조정 (Contrast Adjustment)"
   ]
  },
  {
   "cell_type": "code",
   "execution_count": 50,
   "id": "9ab524cf-b119-4fa5-a9c0-788382d07a97",
   "metadata": {},
   "outputs": [
    {
     "data": {
      "text/plain": [
       "True"
      ]
     },
     "execution_count": 50,
     "metadata": {},
     "output_type": "execute_result"
    }
   ],
   "source": [
    "image = cv2.imread(img_path,0)\n",
    "equalized_image = cv2.equalizeHist(image)\n",
    "cv2.imwrite(f'equalized_image_{img_path}', equalized_image)"
   ]
  },
  {
   "cell_type": "markdown",
   "id": "c70a6ab3-8cae-45f2-8ac2-5263869379b7",
   "metadata": {},
   "source": [
    "# Canny Edge 검출"
   ]
  },
  {
   "cell_type": "code",
   "execution_count": 51,
   "id": "0c17430b-5122-4029-9ca3-180844a2a874",
   "metadata": {},
   "outputs": [
    {
     "data": {
      "text/plain": [
       "True"
      ]
     },
     "execution_count": 51,
     "metadata": {},
     "output_type": "execute_result"
    }
   ],
   "source": [
    "edges = cv2.Canny(image, 100, 200)\n",
    "cv2.imwrite(f'edges_{img_path}', edges)"
   ]
  },
  {
   "cell_type": "markdown",
   "id": "e4aee830-1c81-46fb-a878-0048050e62fc",
   "metadata": {},
   "source": [
    "# 모폴로지 연산 (Morphological Operations)"
   ]
  },
  {
   "cell_type": "code",
   "execution_count": 52,
   "id": "786e8297-8418-4b52-a7fe-26a6e29825a6",
   "metadata": {},
   "outputs": [
    {
     "data": {
      "text/plain": [
       "True"
      ]
     },
     "execution_count": 52,
     "metadata": {},
     "output_type": "execute_result"
    }
   ],
   "source": [
    "kernel = np.ones((5, 5), np.uint8)\n",
    "dilation = cv2.dilate(image, kernel, iterations=1)\n",
    "erosion = cv2.erode(image, kernel, iterations=1)\n",
    "cv2.imwrite(f'dilation_{img_path}', dilation)\n",
    "cv2.imwrite(f'erosion_{img_path}', erosion)"
   ]
  },
  {
   "cell_type": "markdown",
   "id": "078acd9a-be58-46b2-9211-6884bafb0018",
   "metadata": {},
   "source": [
    "# 이미지 이진화 (Binarization)"
   ]
  },
  {
   "cell_type": "code",
   "execution_count": 53,
   "id": "a742ae74-4098-4711-a43d-7321b904d284",
   "metadata": {},
   "outputs": [
    {
     "data": {
      "text/plain": [
       "True"
      ]
     },
     "execution_count": 53,
     "metadata": {},
     "output_type": "execute_result"
    }
   ],
   "source": [
    "_, binary_image = cv2.threshold(image, 127, 255, cv2.THRESH_BINARY)\n",
    "cv2.imwrite(f'binary_image_{img_path}', binary_image)"
   ]
  },
  {
   "cell_type": "markdown",
   "id": "dd6b3187-0486-4ae0-8a17-d26f4cfd8e64",
   "metadata": {},
   "source": [
    "# 빛 반사 제거"
   ]
  },
  {
   "cell_type": "markdown",
   "id": "9400a7ab-368a-4b36-90d7-0d4eafcbb924",
   "metadata": {},
   "source": [
    "# Homomorphic Filtering"
   ]
  },
  {
   "cell_type": "code",
   "execution_count": 37,
   "id": "a207f8e4-b1ad-4d6d-a466-ce6aff1e4a4d",
   "metadata": {},
   "outputs": [],
   "source": [
    "# 전처리 방식들\n",
    "def save_image(image, folder_path, img_name, suffix):\n",
    "    \"\"\"저장된 이미지의 이름에 suffix를 추가하여 저장합니다.\"\"\"\n",
    "    if not os.path.exists(folder_path):\n",
    "        os.makedirs(folder_path)\n",
    "    cv2.imwrite(os.path.join(folder_path, f'{suffix}_{img_name}.jpg'), image)\n",
    "\n",
    "def resized_save(image, folder_path, img_name, width=800, height=600):\n",
    "    resized_image = cv2.resize(image, (width, height))\n",
    "    save_image(resized_image, folder_path, img_name, 'resized')\n",
    "\n",
    "def normalized_save(image, folder_path, img_name):\n",
    "    normalized_image = image / 255.0\n",
    "    normalized_image = (normalized_image * 255).astype(np.uint8)\n",
    "    save_image(normalized_image, folder_path, img_name, 'normalized')\n",
    "\n",
    "def augmented_save(image, folder_path, img_name):\n",
    "    angle = np.random.uniform(-30, 30)\n",
    "    M = cv2.getRotationMatrix2D((image.shape[1] / 2, image.shape[0] / 2), angle, 1)\n",
    "    rotated_image = cv2.warpAffine(image, M, (image.shape[1], image.shape[0]))\n",
    "    flipped_image = cv2.flip(rotated_image, 1)\n",
    "    value = np.random.uniform(0.5, 1.5)\n",
    "    hsv = cv2.cvtColor(flipped_image, cv2.COLOR_BGR2HSV)\n",
    "    hsv[..., 2] = hsv[..., 2] * value\n",
    "    augmented_image = cv2.cvtColor(hsv, cv2.COLOR_HSV2BGR)\n",
    "    save_image(augmented_image, folder_path, img_name, 'augmented')\n",
    "\n",
    "def contrast_adjusted_save(image, folder_path, img_name):\n",
    "    gray_image = cv2.cvtColor(image, cv2.COLOR_BGR2GRAY)\n",
    "    contrasted_image = cv2.equalizeHist(gray_image)\n",
    "    save_image(contrasted_image, folder_path, img_name, 'contrasted')\n",
    "\n",
    "def filtered_save(image, folder_path, img_name):\n",
    "    filtered_image = cv2.GaussianBlur(image, (5, 5), 0)\n",
    "    save_image(filtered_image, folder_path, img_name, 'filtered')\n",
    "\n",
    "def edges_detected_save(image, folder_path, img_name):\n",
    "    gray_image = cv2.cvtColor(image, cv2.COLOR_BGR2GRAY)\n",
    "    edges_image = cv2.Canny(gray_image, 100, 200)\n",
    "    save_image(edges_image, folder_path, img_name, 'edges')\n",
    "\n",
    "def binarized_save(image, folder_path, img_name):\n",
    "    gray_image = cv2.cvtColor(image, cv2.COLOR_BGR2GRAY)\n",
    "    _, binary_image = cv2.threshold(gray_image, 127, 255, cv2.THRESH_BINARY)\n",
    "    save_image(binary_image, folder_path, img_name, 'binary')\n",
    "\n",
    "def morphological_operations_save(image, folder_path, img_name):\n",
    "    gray_image = cv2.cvtColor(image, cv2.COLOR_BGR2GRAY)\n",
    "    kernel = np.ones((5, 5), np.uint8)\n",
    "    dilation = cv2.dilate(gray_image, kernel, iterations=1)\n",
    "    erosion = cv2.erode(gray_image, kernel, iterations=1)\n",
    "    save_image(dilation, folder_path, img_name, 'dilation')\n",
    "    save_image(erosion, folder_path, img_name, 'erosion')\n",
    "\n",
    "def color_space_converted_save(image, folder_path, img_name):\n",
    "    hsv_image = cv2.cvtColor(image, cv2.COLOR_BGR2HSV)\n",
    "    save_image(hsv_image, folder_path, img_name, 'hsv')\n",
    "\n",
    "def image_pyramids_save(image, folder_path, img_name):\n",
    "    lower_reso = cv2.pyrDown(image)\n",
    "    higher_reso = cv2.pyrUp(image)\n",
    "    save_image(lower_reso, folder_path, img_name, 'lower_reso')\n",
    "    save_image(higher_reso, folder_path, img_name, 'higher_reso')\n",
    "\n",
    "def single_scale_retinex_save(image, folder_path, img_name, sigma):\n",
    "    def single_scale_retinex(image, sigma):\n",
    "        retinex = np.log10(image + 1) - np.log10(cv2.GaussianBlur(image, (0, 0), sigma) + 1)\n",
    "        return retinex\n",
    "    \n",
    "    image = image / 255.0\n",
    "    retinex_image = single_scale_retinex(image, sigma)\n",
    "    retinex_image = (retinex_image - np.min(retinex_image)) / (np.max(retinex_image) - np.min(retinex_image))\n",
    "    retinex_image = (retinex_image * 255).astype(np.uint8)\n",
    "    \n",
    "    save_image(retinex_image, folder_path, img_name, 'retinex')\n"
   ]
  },
  {
   "cell_type": "code",
   "execution_count": 34,
   "id": "8dd09db5-6205-4507-916d-dfbeaf291e45",
   "metadata": {},
   "outputs": [],
   "source": [
    "# # 흑백이미지 대상\n",
    "# image = cv2.imread(img_path, 0)  # Load as grayscale\n",
    "# homomorphic_image = homomorphic_filter(image, d0=30, c=1.0, gH=1.5, gL=0.8)\n",
    "# cv2.imwrite(f'homomorphic_image_{img_path}', homomorphic_image)"
   ]
  },
  {
   "cell_type": "markdown",
   "id": "d0f09b49-89b5-421b-a125-0c1623dee143",
   "metadata": {},
   "source": [
    "# 조명 균일화 (Illumination Equalization)"
   ]
  },
  {
   "cell_type": "markdown",
   "id": "49a47f09-6506-43ff-8d9c-9805e5035489",
   "metadata": {},
   "source": [
    "# CLAHE (Contrast Limited Adaptive Histogram Equalization)"
   ]
  },
  {
   "cell_type": "code",
   "execution_count": 56,
   "id": "bdfbd06a-d040-4da8-8e04-83fe1f1432d1",
   "metadata": {},
   "outputs": [
    {
     "data": {
      "text/plain": [
       "True"
      ]
     },
     "execution_count": 56,
     "metadata": {},
     "output_type": "execute_result"
    }
   ],
   "source": [
    "clahe = cv2.createCLAHE(clipLimit=2.0, tileGridSize=(8, 8))\n",
    "equalized_image = clahe.apply(image)\n",
    "cv2.imwrite(f'equalized_image_{img_path}', equalized_image)"
   ]
  },
  {
   "cell_type": "markdown",
   "id": "7de4c320-4894-4603-8b5d-b1ff017fb3e4",
   "metadata": {},
   "source": [
    "# Retinex Algorithm"
   ]
  },
  {
   "cell_type": "code",
   "execution_count": 4,
   "id": "e932e891-be59-4e57-aea5-6ae6a421d0bd",
   "metadata": {},
   "outputs": [
    {
     "data": {
      "text/plain": [
       "True"
      ]
     },
     "execution_count": 4,
     "metadata": {},
     "output_type": "execute_result"
    }
   ],
   "source": [
    "def single_scale_retinex(image, sigma):\n",
    "    retinex = np.log10(image + 1) - np.log10(cv2.GaussianBlur(image, (0, 0), sigma) + 1)\n",
    "    return retinex\n",
    "def process_and_save_images(image, folder_path, img_name):\n",
    "\n",
    "    contrast_adjusted_save(image, folder_path, img_name)\n",
    "    filtered_save(image, folder_path, img_name)\n",
    "    edges_detected_save(image, folder_path, img_name)\n",
    "    binarized_save(image, folder_path, img_name)\n",
    "    morphological_operations_save(image, folder_path, img_name)\n",
    "    color_space_converted_save(image, folder_path, img_name)\n",
    "    image_pyramids_save(image, folder_path, img_name)\n",
    "    single_scale_retinex_save(image, folder_path, img_name,sigma=15)\n"
   ]
  },
  {
   "cell_type": "markdown",
   "id": "97f208f1-df74-42dd-89b6-d616bf4ba4f1",
   "metadata": {},
   "source": [
    "# 가상 조명 효과 (Synthetic Lighting Effect)"
   ]
  },
  {
   "cell_type": "code",
   "execution_count": 58,
   "id": "9a719344-ec10-4a11-b02d-53ee718e5c89",
   "metadata": {},
   "outputs": [
    {
     "data": {
      "text/plain": [
       "True"
      ]
     },
     "execution_count": 58,
     "metadata": {},
     "output_type": "execute_result"
    }
   ],
   "source": [
    "def add_lighting_effect(image, center=None, radius=100, strength=1.5):\n",
    "    image = cv2.imread(img_path)\n",
    "    if center is None:\n",
    "        center = (image.shape[1] // 2, image.shape[0] // 2)\n",
    "    \n",
    "    mask = np.zeros_like(image, dtype=np.float32)\n",
    "    cv2.circle(mask, center, radius, (255, 255, 255), -1)\n",
    "    mask = cv2.GaussianBlur(mask, (21, 21), 0)\n",
    "    \n",
    "    highlighted = cv2.addWeighted(image, 1, mask.astype(image.dtype), strength, 0)\n",
    "    cv2.imwrite(f'highlighted_image_{img_path}', highlighted)\n"
   ]
  },
  {
   "cell_type": "code",
   "execution_count": null,
   "id": "6e3e8397-ce8d-4181-a2b2-f7465531b3af",
   "execution_count": 32,
   "id": "80db0d7b-a13c-4f01-8655-45cc944d4d94",
   "metadata": {},
   "outputs": [],
   "source": [
    "for img_path in os.listdir(sample_dir):\n",
    "    img_name = img_path.split('.')[0]\n",
    "    save_path = f'{save_dir}/{img_name}'\n",
    "    os.makedirs(save_path,exist_ok=True)\n",
    "\n",
    "    image = cv2.imread(os.path.join(sample_dir,img_path))\n",
    "    process_and_save_images(image,save_path,img_name)"
   ]
  }
 ],
 "metadata": {
  "kernelspec": {
   "display_name": "Python 3 (ipykernel)",
   "language": "python",
   "name": "python3"
  },
  "language_info": {
   "codemirror_mode": {
    "name": "ipython",
    "version": 3
   },
   "file_extension": ".py",
   "mimetype": "text/x-python",
   "name": "python",
   "nbconvert_exporter": "python",
   "pygments_lexer": "ipython3",
   "version": "3.10.4"
  }
 },
 "nbformat": 4,
 "nbformat_minor": 5
}
