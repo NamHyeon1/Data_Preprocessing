{
 "cells": [
  {
   "cell_type": "code",
   "execution_count": 2,
   "id": "8d790d1e-69ed-4c74-a395-531105695a3e",
   "metadata": {},
   "outputs": [],
   "source": [
    "import os\n",
    "import cv2\n",
    "import matplotlib.pyplot as plt"
   ]
  },
  {
   "cell_type": "code",
   "execution_count": 67,
   "id": "459011c3-8667-46d3-ae5d-bada59d3ef74",
   "metadata": {},
   "outputs": [],
   "source": [
    "base_path_name = '0726_save_img'\n",
    "\n",
    "dir_list = os.listdir('0726_save_img')\n",
    "\n",
    "img_dir_name = os.listdir('0726_save_img')[0]"
   ]
  },
  {
   "cell_type": "code",
   "execution_count": 68,
   "id": "6156f246-a57d-4ce8-bb73-2dcb6e79d11e",
   "metadata": {},
   "outputs": [],
   "source": [
    "img_names = os.listdir(dir_path)"
   ]
  },
  {
   "cell_type": "code",
   "execution_count": 69,
   "id": "56006822-14db-408c-a5e9-d38a8d9afd9d",
   "metadata": {},
   "outputs": [
    {
     "data": {
      "text/plain": [
       "11"
      ]
     },
     "execution_count": 69,
     "metadata": {},
     "output_type": "execute_result"
    }
   ],
   "source": [
    "dir_list = os.listdir('0726_save_img')\n",
    "len(dir_list)"
   ]
  },
  {
   "cell_type": "code",
   "execution_count": 70,
   "id": "01437c4b-9b2d-4163-bba3-5816343c55e1",
   "metadata": {
    "scrolled": true
   },
   "outputs": [],
   "source": [
    "base_path_name = '0726_save_img'\n",
    "\n",
    "dir_list = os.listdir('0726_save_img')\n",
    "\n",
    "for i in range(len(dir_list)):\n",
    "    if i != 10:\n",
    "        continue\n",
    "    img_dir_name = dir_list[i]\n",
    "    \n",
    "    dir_path = os.path.join(base_path_name, img_dir_name).replace('\\\\','/')\n",
    "    \n",
    "    img_list = os.listdir(dir_path)\n",
    "\n",
    "    for j in range(len(img_list)):\n",
    "        img_name = img_list[j]\n",
    "        \n",
    "        img_path = os.path.join(dir_path, img_name).replace('\\\\', '/')\n",
    "        img = cv2.imread(img_path)\n",
    "        \n",
    "        save_img_path = os.path.join(dir_path, img_names[j]).replace('\\\\', '/')\n",
    "        cv2.imwrite(save_img_path, img)"
   ]
  },
  {
   "cell_type": "code",
   "execution_count": null,
   "id": "5acc8f65-5b35-470f-83e5-a3ffa992f436",
   "metadata": {},
   "outputs": [],
   "source": []
  }
 ],
 "metadata": {
  "kernelspec": {
   "display_name": "Python 3 (ipykernel)",
   "language": "python",
   "name": "python3"
  },
  "language_info": {
   "codemirror_mode": {
    "name": "ipython",
    "version": 3
   },
   "file_extension": ".py",
   "mimetype": "text/x-python",
   "name": "python",
   "nbconvert_exporter": "python",
   "pygments_lexer": "ipython3",
   "version": "3.10.4"
  }
 },
 "nbformat": 4,
 "nbformat_minor": 5
}
